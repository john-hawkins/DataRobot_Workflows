{
 "cells": [
  {
   "cell_type": "markdown",
   "metadata": {},
   "source": [
    "# 3. Get Predictions\n",
    "\n",
    "Send a new data to the deployed model to get predictions \n",
    "\n",
    "NOTE: \n",
    "- Items to bring to new environment \n",
    "    - requirement.txt                \n",
    "    - config.yaml  \n",
    "    - New results.json -- obtained from running '2. Model Deployment.py' script \n",
    "    - <this script>.py\n",
    "- Python environment was used but not commited to repo. Initiate python environment on the terminal:\n",
    "    python3 -m venv API_Workflow_EndtoEnd/new_env\n",
    "    source API_Workflow_EndtoEnd/new_env/bin/activate\n",
    "- Intall required libraries:\n",
    "    pip install -r API_Workflow_EndtoEnd/requirements.txt \n",
    "- .yaml file not commited. Use your own API token and other credentials "
   ]
  },
  {
   "cell_type": "code",
   "execution_count": 0,
   "metadata": {},
   "outputs": [],
   "source": [
    "# Import libraries and set the config path \n",
    "import sys, os\n",
    "import pandas as pd\n",
    "import datarobot as dr\n",
    "from datarobot import Project, Deployment\n",
    "import pickle\n",
    "import requests\n",
    "import json\n",
    "import time \n",
    "print(sys.version)\n",
    "dr.Client(config_path=os.getcwd()+'/API_Workflow_EndtoEnd/config.yaml')"
   ]
  },
  {
   "cell_type": "code",
   "execution_count": 0,
   "metadata": {},
   "outputs": [],
   "source": [
    "# Retrieve to correct model ID and Project ID - the one that was deployed \n",
    "# ie delays2013_prod_similar\n",
    "with open('API_Workflow_EndtoEnd/New_result.json') as f:\n",
    "    param = json.load(f)\n",
    "\n",
    "project = dr.Project.get(param['project ID'])\n",
    "model = dr.Model.get(project=param['project ID'],\n",
    "                     model_id=param['Model ID'])\n",
    "\n",
    "# Using path to local file to generate predictions\n",
    "test = project.upload_dataset(os.getcwd() + \"/retrain_python/logan-US-2014.csv\")\n",
    "predict_job_1 = model.request_predictions(test.id)\n",
    "\n",
    "# wait for a while... \n",
    "time.sleep(10)\n",
    "\n",
    "# Submit prediction into the queue\n",
    "predict_job = dr.PredictJob.get(project_id=param['project ID'],\n",
    "                                predict_job_id = predict_job_1.id)\n",
    "\n",
    "# now the predictions are finished\n",
    "predictions = dr.PredictJob.get_predictions(project_id=project.id,\n",
    "                                            predict_job_id=predict_job_1.id)\n",
    "\n",
    "predictions.head()"
   ]
  }
 ],
 "metadata": {
  "file_extension": ".py",
  "kernelspec": {
   "display_name": "Python 3",
   "language": "python",
   "name": "python3"
  },
  "language_info": {
   "codemirror_mode": {
    "name": "ipython",
    "version": 3
   },
   "file_extension": ".py",
   "mimetype": "text/x-python",
   "name": "python",
   "nbconvert_exporter": "python",
   "pygments_lexer": "ipython3",
   "version": "3.7.0"
  },
  "mimetype": "text/x-python",
  "name": "python",
  "npconvert_exporter": "python",
  "pygments_lexer": "ipython3",
  "version": 3
 },
 "nbformat": 4,
 "nbformat_minor": 2
}
