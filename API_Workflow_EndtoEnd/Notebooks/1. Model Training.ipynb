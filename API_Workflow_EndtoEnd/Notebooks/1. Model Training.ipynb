{
 "cells": [
  {
   "cell_type": "markdown",
   "metadata": {},
   "source": [
    "# 1. Model Training \n",
    "Using the API to train a model on DataRobot, and serialise the model  \n",
    "\n",
    "NOTE: \n",
    "- Python environment was used but not commited to repo. Initiate python environment on the terminal:\n",
    "    python3 -m venv API_Workflow_EndtoEnd/new_env\n",
    "    source API_Workflow_EndtoEnd/new_env/bin/activate\n",
    "- Intall required libraries:\n",
    "    pip install -r API_Workflow_EndtoEnd/requirements.txt \n",
    "- .yaml file not commited. Use your own API token and other credentials \n"
   ]
  },
  {
   "cell_type": "code",
   "execution_count": 0,
   "metadata": {},
   "outputs": [],
   "source": [
    "# import library and set the config path\n",
    "import sys, os\n",
    "import pandas as pd\n",
    "import datarobot as dr\n",
    "from datarobot import Project, Deployment\n",
    "import pickle\n",
    "import requests\n",
    "import json\n",
    "print(sys.version)\n",
    "dr.Client(config_path=os.getcwd()+'/API_Workflow_EndtoEnd/config.yaml')"
   ]
  },
  {
   "cell_type": "code",
   "execution_count": 0,
   "metadata": {},
   "outputs": [],
   "source": [
    "# Project Creation\n",
    "df = pd.read_csv(\n",
    "    os.getcwd() + \"/retrain_python/logan-US-2013.csv\"\n",
    ")\n",
    "df.head()\n",
    "\n",
    "# create a project in Datarobot now, can also be a filepath directory to a url\n",
    "project = dr.Project.create(df, project_name = 'delays2013')"
   ]
  },
  {
   "cell_type": "code",
   "execution_count": 0,
   "metadata": {},
   "outputs": [],
   "source": [
    "# Check on DataRobot app that the data is uploaded, project called 'delays2013'\n",
    "# now we run autopilot \n",
    "project.get_metrics('was_delayed')['available_metrics']\n",
    "\n",
    "# to get reduced features\n",
    "featurelist = project.create_featurelist('myfeatures', list(df.columns.values))\n",
    "\n",
    "# run autopilot\n",
    "project.set_target(target = 'was_delayed'\n",
    "    , featurelist_id = featurelist.id\n",
    "    , metric ='AUC'\n",
    "    , mode = dr.AUTOPILOT_MODE.FULL_AUTO\n",
    "    , worker_count = -1\n",
    "    )\n",
    "project.wait_for_autopilot()"
   ]
  },
  {
   "cell_type": "code",
   "execution_count": 0,
   "metadata": {},
   "outputs": [],
   "source": [
    "# Use DataRobot's recommended model that is NOT a blender \n",
    "best_model = dr.ModelRecommendation.get(project.id).get_model()\n",
    "print(best_model)\n",
    "best_model.blueprint_id\n",
    "\n",
    "# store the artifacts for future references \n",
    "param = {\n",
    "    \"project ID\": project.id,\n",
    "    \"Model Name\": str(best_model),\n",
    "    \"Model ID\": best_model.id,\n",
    "    \"Model Blueprint ID\": best_model.blueprint_id,\n",
    "    \"Model Blueprint Process\": str(best_model.processes)\n",
    "}\n",
    "\n",
    "with open('API_Workflow_EndtoEnd/result.json', 'w') as fp:\n",
    "    json.dump(param, fp)"
   ]
  }
 ],
 "metadata": {
  "file_extension": ".py",
  "kernelspec": {
   "display_name": "Python 3",
   "language": "python",
   "name": "python3"
  },
  "language_info": {
   "codemirror_mode": {
    "name": "ipython",
    "version": 3
   },
   "file_extension": ".py",
   "mimetype": "text/x-python",
   "name": "python",
   "nbconvert_exporter": "python",
   "pygments_lexer": "ipython3",
   "version": "3.7.0"
  },
  "mimetype": "text/x-python",
  "name": "python",
  "npconvert_exporter": "python",
  "pygments_lexer": "ipython3",
  "version": 3
 },
 "nbformat": 4,
 "nbformat_minor": 2
}