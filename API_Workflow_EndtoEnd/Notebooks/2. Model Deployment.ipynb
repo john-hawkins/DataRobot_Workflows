{
 "cells": [
  {
   "cell_type": "markdown",
   "metadata": {},
   "source": [
    "# 2. Model Deployment \n",
    "\n",
    "Deploying model onto a new environment to enable predictions, using the serialised model\n",
    "\n",
    "NOTE: \n",
    "- Items to bring to new environment \n",
    "    - requirement.txt                \n",
    "    - <training data>.csv\n",
    "    - bk.pkl\n",
    "    - config.yaml  \n",
    "    - results.json -- optional \n",
    "    - <this script>.py\n",
    "- Python environment was used but not commited to repo. Initiate python environment on the terminal:\n",
    "    python3 -m venv API_Workflow_EndtoEnd/new_env\n",
    "    source API_Workflow_EndtoEnd/new_env/bin/activate\n",
    "- Intall required libraries:\n",
    "    pip install -r API_Workflow_EndtoEnd/requirements.txt \n",
    "- .yaml file not commited. Use your own API token and other credentials "
   ]
  },
  {
   "cell_type": "code",
   "execution_count": 0,
   "metadata": {},
   "outputs": [],
   "source": [
    "# Import libraries and set the config path \n",
    "import sys, os\n",
    "import pandas as pd\n",
    "import datarobot as dr\n",
    "from datarobot import Project, Deployment\n",
    "import pickle\n",
    "import requests\n",
    "print(sys.version)\n",
    "dr.Client(config_path=os.getcwd()+'/API_Workflow_EndtoEnd/config.yaml')"
   ]
  },
  {
   "cell_type": "code",
   "execution_count": 0,
   "metadata": {},
   "outputs": [],
   "source": [
    "# Project Creation \n",
    "df = pd.read_csv(\n",
    "    os.getcwd() + \"/retrain_python/logan-US-2013.csv\"\n",
    ")\n",
    "df.head()\n",
    "\n",
    "project = dr.Project.create(df, project_name = 'delays2013_prod_similar')\n",
    "featurelist = project.create_featurelist('myfeatures', list(df.columns.values))"
   ]
  },
  {
   "cell_type": "code",
   "execution_count": 0,
   "metadata": {},
   "outputs": [],
   "source": [
    "# run manual mode to pick up that same blueprint (don't want to have a different blueprint between DEV and PROD)\n",
    "project.set_target(target='was_delayed'\n",
    "    , featurelist_id = featurelist.id\n",
    "    , metric = 'AUC'\n",
    "    , mode = dr.AUTOPILOT_MODE.MANUAL\n",
    "    , worker_count= -1 \n",
    "    )\n",
    "\n",
    "# now get the blueprint that we pickled from script '1. Model Training.py'\n",
    "old_bp = pickle.load(open('API_Workflow_EndtoEnd/bp.pkl', 'rb'))\n",
    "\n",
    "# Get a blueprint that is of the same type, with the same feature engineering \n",
    "new_bp = [bp for bp in project.get_blueprints() if old_bp.processes == bp.processes][0]\n",
    "print(new_bp)\n",
    "\n",
    "# train this bluerpint on 80% \n",
    "job = project.train(new_bp\n",
    "    , sample_pct=80 \n",
    "    , source_project_id= project.id)\n",
    "\n",
    "model =dr.models.modeljob.wait_for_async_model_creation(project.id, job)"
   ]
  },
  {
   "cell_type": "code",
   "execution_count": 0,
   "metadata": {},
   "outputs": [],
   "source": [
    "# Create a deployment \n",
    "pred_server = dr.PredictionServer.list()[0].id \n",
    "deployment = Deployment.create_from_learning_model(\n",
    "    model.id\n",
    "    , 'Deployment Test'\n",
    "    , default_prediction_server_id=pred_server\n",
    "    )\n",
    "\n",
    "# Because this is the model / project that we are using going forward, \n",
    "# we need to store its artificates in replacement of the original \n",
    "# ie. project 'delays2013' is now old. We use 'delays2013_prod_similar'\n",
    "param = {\n",
    "    \"project ID\": project.id,\n",
    "    \"Model Name\": str(model),\n",
    "    \"Model ID\": model.id,\n",
    "    \"Model Blueprint ID\": model.blueprint_id,\n",
    "    \"Model Blueprint Process\": str(model.processes)\n",
    "}\n",
    "\n",
    "with open('API_Workflow_EndtoEnd/New_result.json', 'w') as fp:\n",
    "    json.dump(param, fp)"
   ]
  }
 ],
 "metadata": {
  "file_extension": ".py",
  "kernelspec": {
   "display_name": "Python 3",
   "language": "python",
   "name": "python3"
  },
  "language_info": {
   "codemirror_mode": {
    "name": "ipython",
    "version": 3
   },
   "file_extension": ".py",
   "mimetype": "text/x-python",
   "name": "python",
   "nbconvert_exporter": "python",
   "pygments_lexer": "ipython3",
   "version": "3.7.0"
  },
  "mimetype": "text/x-python",
  "name": "python",
  "npconvert_exporter": "python",
  "pygments_lexer": "ipython3",
  "version": 3
 },
 "nbformat": 4,
 "nbformat_minor": 2
}